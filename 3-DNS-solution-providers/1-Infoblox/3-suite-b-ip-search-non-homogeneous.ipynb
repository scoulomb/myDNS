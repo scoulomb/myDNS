{
 "cells": [
  {
   "cell_type": "markdown",
   "metadata": {},
   "source": [
    "# IP checks\n",
    "\n",
    "> Warning: This file is generated from the jupyter notebook. Do not edit by hand. Generate it instead.\n",
    "\n",
    "Objective: prevent records from using same IP in same view."
   ]
  },
  {
   "cell_type": "code",
   "execution_count": 67,
   "metadata": {},
   "outputs": [
    {
     "name": "stdout",
     "output_type": "stream",
     "text": [
      "[NbConvertApp] Converting notebook 3-suite-b-ip-search-non-homogeneous.ipynb to markdown\n",
      "[NbConvertApp] Writing 13442 bytes to 3-suite-b-ip-search-non-homogeneous.md\n"
     ]
    }
   ],
   "source": [
    "jupyter nbconvert 3-suite-b-ip-search-non-homogeneous.ipynb --to markdown"
   ]
  },
  {
   "cell_type": "markdown",
   "metadata": {},
   "source": [
    "## Search endpoint\n",
    "\n",
    "<!-- inspired from echo \"=== Create entry failure because of IP check, decoding error due to network created on purpose, matching the subnet of the IP check , which is not a record and can not be decoded for the case where we have a A + HOST conflict\" in -->\n",
    "\n",
    "We have particular case where search API does not necessarily return a record.\n",
    "It can return a network.\n",
    "We will reproduce the issue below.\n"
   ]
  },
  {
   "cell_type": "markdown",
   "metadata": {},
   "source": [
    "### Environment setup\n",
    "\n",
    "Create view "
   ]
  },
  {
   "cell_type": "code",
   "execution_count": 68,
   "metadata": {},
   "outputs": [
    {
     "name": "stdout",
     "output_type": "stream",
     "text": [
      "=== Create a proto test view\n",
      "\"view/ZG5zLnZpZXckLjkyNw:scoulomb-proto-view/false\"  % Total    % Received % Xferd  Average Speed   Time    Time     Time  Current\n",
      "                                 Dload  Upload   Total   Spent    Left  Speed\n",
      "100   153    0   153    0     0    496      0 --:--:-- --:--:-- --:--:--   496\n",
      "view/ZG5zLnZpZXckLjkyNw:scoulomb-proto-view/false\n",
      "{\n",
      "    \"result\": {\n",
      "        \"_ref\": \"zone_auth/ZG5zLnpvbmUkLjkyNy5uZXQuYW1hZGV1cy5vcw:os.amadeus.net/scoulomb-proto-view\", \n",
      "        \"fqdn\": \"os.amadeus.net\", \n",
      "        \"network_view\": \"default\", \n",
      "        \"view\": \"scoulomb-proto-view\"\n",
      "    }\n",
      "}"
     ]
    }
   ],
   "source": [
    "API_ENDPOINT=\"\" \n",
    "\n",
    "echo \"=== Create a proto test view\"\n",
    "# create my test view\n",
    "# See https://github.com/scoulomb/myDNS/blob/master/3-DNS-solution-providers/1-Infoblox/1-Infoblox-API-overview.md\n",
    "\n",
    "curl -k -u admin:infoblox -H 'content-type: application/json' -X POST \"https://$API_ENDPOINT/wapi/v2.5/view\" -d '{\"name\": \"scoulomb-proto-view\"}'\n",
    "export view_id=$(curl -k -u admin:infoblox \\\n",
    "        -H \"Content-Type: application/json\" \\\n",
    "        -X GET \\\n",
    "        \"https://$API_ENDPOINT/wapi/v2.5/view?name=scoulomb-proto-view\" |  jq .[0]._ref |  tr -d '\"')\n",
    "echo $view_id\n",
    "\n",
    "curl -k -u admin:infoblox -H 'content-type: application/json' -X POST \"https://$API_ENDPOINT/wapi/v2.5/zone_auth?_return_fields%2B=fqdn,network_view&_return_as_object=1\" -d \\\n",
    "'{\"fqdn\": \"os.amadeus.net\",\"view\": \"scoulomb-proto-view\"}'\n"
   ]
  },
  {
   "cell_type": "markdown",
   "metadata": {},
   "source": [
    "### Create network (sharing same subnet as A + HOST) and A + HOST (sharing same IP)"
   ]
  },
  {
   "cell_type": "code",
   "execution_count": 69,
   "metadata": {},
   "outputs": [
    {
     "name": "stdout",
     "output_type": "stream",
     "text": [
      "We will use ip  58.137.97.25\n",
      "We will use network: 58.137.0.0/16\n",
      "\n",
      "Create conflicting network and A + HOST\n",
      "\n",
      "\"network/ZG5zLm5ldHdvcmskNTguMTM3LjAuMC8xNi8w:58.137.0.0/16/default\"  % Total    % Received % Xferd  Average Speed   Time    Time     Time  Current\n",
      "                                 Dload  Upload   Total   Spent    Left  Speed\n",
      "100   379    0   227  100   152    652    436 --:--:-- --:--:-- --:--:--  1089\n",
      "\"record:a/ZG5zLmJpbmRfYSQuOTI3Lm5ldC5hbWFkZXVzLm9zLGRlbW8tdGVzdC00MDVhNDQ2Ny1iNTJmLTQxYzktYTM4Yi01MzUxNjYzNzU2MGMteHh4eHgsNTguMTM3Ljk3LjI1:demo-test-405a4467-b52f-41c9-a38b-53516637560c-xxxxx.os.amadeus.net/scoulomb-proto-view\"\n",
      "\"record:host/ZG5zLmhvc3QkLjkyNy5uZXQuYW1hZGV1cy5vcy5kZW1vLXRlc3QtNDA1YTQ0NjctYjUyZi00MWM5LWEzOGItNTM1MTY2Mzc1NjBjLXR0dHR0dA:demo-test-405a4467-b52f-41c9-a38b-53516637560c-tttttt.os.amadeus.net/scoulomb-proto-view\""
     ]
    }
   ],
   "source": [
    "UUID=$(cat /proc/sys/kernel/random/uuid)\n",
    "export entry_name_prefix=\"demo-test-$UUID\"\n",
    "\n",
    "IPV4_1=$((RANDOM % 256))\n",
    "IPV4_2=$((RANDOM % 256))\n",
    "\n",
    "export IPV4=$(printf \"%d.%d.%d.%d\\n\" \"$IPV4_1\" \"$IPV4_2\" \"$((RANDOM % 256))\" \"$((RANDOM % 256))\")\n",
    "echo \"We will use ip \" $IPV4\n",
    "export NETWORK=$(printf \"%d.%d.%d.%d/16\\n\" \"$IPV4_1\" \"$IPV4_2\" \"0\" \"0\")\n",
    "echo \"We will use network\": $NETWORK\n",
    "\n",
    "echo -e \"\\nCreate conflicting network and A + HOST\\n\"\n",
    "\n",
    "payload_network=$(cat <<EOF\n",
    "{\"network\": \"$NETWORK\"}\n",
    "EOF\n",
    ")\n",
    "\n",
    "curl -k -u admin:infoblox \\\n",
    "      -H 'content-type: application/json'\\\n",
    "      -X POST \\\n",
    "      https://$API_ENDPOINT/wapi/v2.6/network \\\n",
    "      --data \"$payload_network\"\n",
    "\n",
    "\n",
    "payload_infoblox=$(cat <<EOF\n",
    "{\n",
    "    \"name\": \"$entry_name_prefix-XXXXX.os.amadeus.net\",\n",
    "    \"view\": \"scoulomb-proto-view\",\n",
    "    \"ipv4addr\": \"$IPV4\"\n",
    "}\n",
    "EOF\n",
    ")\n",
    "\n",
    "curl -k -u admin:infoblox \\\n",
    "        -H \"Content-Type: application/json\" \\\n",
    "        -X POST \\\n",
    "        -d \"$payload_infoblox\" \\\n",
    "        https://$API_ENDPOINT/wapi/v2.5/record:a |jq -M\n",
    "\n",
    "\n",
    "payload_infoblox=$(cat <<EOF\n",
    "{\n",
    "    \"name\": \"$entry_name_prefix-TTTTTT.os.amadeus.net\",\n",
    "    \"view\": \"scoulomb-proto-view\",\n",
    "    \"ipv4addrs\": [{\"ipv4addr\":\"$IPV4\"}]\n",
    "}\n",
    "EOF\n",
    ")\n",
    "\n",
    "curl -k -u admin:infoblox\\\n",
    "        -H \"Content-Type: application/json\" \\\n",
    "        -X POST \\\n",
    "        -d \"$payload_infoblox\" \\\n",
    "        https://$API_ENDPOINT/wapi/v2.5/record:host"
   ]
  },
  {
   "cell_type": "markdown",
   "metadata": {},
   "source": [
    "We find element by IP in Infoblox"
   ]
  },
  {
   "cell_type": "code",
   "execution_count": 70,
   "metadata": {},
   "outputs": [
    {
     "name": "stdout",
     "output_type": "stream",
     "text": [
      "[1] 14766\n",
      "[\n",
      "    {\n",
      "        \"_ref\": \"record:a/ZG5zLmJpbmRfYSQuOTI3Lm5ldC5hbWFkZXVzLm9zLGRlbW8tdGVzdC00MDVhNDQ2Ny1iNTJmLTQxYzktYTM4Yi01MzUxNjYzNzU2MGMteHh4eHgsNTguMTM3Ljk3LjI1:demo-test-405a4467-b52f-41c9-a38b-53516637560c-xxxxx.os.amadeus.net/scoulomb-proto-view\", \n",
      "        \"ipv4addr\": \"58.137.97.25\", \n",
      "        \"name\": \"demo-test-405a4467-b52f-41c9-a38b-53516637560c-xxxxx.os.amadeus.net\", \n",
      "        \"view\": \"scoulomb-proto-view\"\n",
      "    }, \n",
      "    {\n",
      "        \"_ref\": \"record:host/ZG5zLmhvc3QkLjkyNy5uZXQuYW1hZGV1cy5vcy5kZW1vLXRlc3QtNDA1YTQ0NjctYjUyZi00MWM5LWEzOGItNTM1MTY2Mzc1NjBjLXR0dHR0dA:demo-test-405a4467-b52f-41c9-a38b-53516637560c-tttttt.os.amadeus.net/scoulomb-proto-view\", \n",
      "        \"ipv4addrs\": [\n",
      "            {\n",
      "                \"_ref\": \"record:host_ipv4addr/ZG5zLmhvc3RfYWRkcmVzcyQuOTI3Lm5ldC5hbWFkZXVzLm9zLmRlbW8tdGVzdC00MDVhNDQ2Ny1iNTJmLTQxYzktYTM4Yi01MzUxNjYzNzU2MGMtdHR0dHR0LjU4LjEzNy45Ny4yNS4:58.137.97.25/demo-test-405a4467-b52f-41c9-a38b-53516637560c-tttttt.os.amadeus.net/scoulomb-proto-view\", \n",
      "                \"configure_for_dhcp\": false, \n",
      "                \"host\": \"demo-test-405a4467-b52f-41c9-a38b-53516637560c-tttttt.os.amadeus.net\", \n",
      "                \"ipv4addr\": \"58.137.97.25\"\n",
      "            }\n",
      "        ], \n",
      "        \"name\": \"demo-test-405a4467-b52f-41c9-a38b-53516637560c-tttttt.os.amadeus.net\", \n",
      "        \"view\": \"scoulomb-proto-view\"\n",
      "    }, \n",
      "    {\n",
      "        \"_ref\": \"network/ZG5zLm5ldHdvcmskNTguMTM3LjAuMC8xNi8w:58.137.0.0/16/default\", \n",
      "        \"network\": \"58.137.0.0/16\", \n",
      "        \"network_view\": \"default\"\n",
      "    }\n",
      "][1]+  Done                    curl -k -u admin:infoblox -H \"Content-Type: application/json\" -X GET https://$API_ENDPOINT/wapi/v2.6/search?address=$IPV4\n"
     ]
    }
   ],
   "source": [
    "curl -k -u admin:infoblox \\\n",
    "        -H \"Content-Type: application/json\" \\\n",
    "        -X GET \\\n",
    "        https://$API_ENDPOINT/wapi/v2.6/search?address=$IPV4&_return_fields=name | jq -M\n",
    "\n",
    "sleep 2 # for jupyter to not ove result to next cell"
   ]
  },
  {
   "cell_type": "markdown",
   "metadata": {},
   "source": [
    "We had already seen this API could return record host, a, cname etc.So not homogeneous.\n",
    "But it can return element which are not DNS records.\n",
    "It can return networkcontainer and network.\n",
    "\n",
    "````\n",
    "{\n",
    "    \"_ref\": \"network/ZG5zLm5ldHdvcmskMTIyLjIzMS4wLjAvMTYvMA:122.231.0.0/16/default\", \n",
    "    \"network\": \"122.231.0.0/16\", \n",
    "    \"network_view\": \"default\"\n",
    "}\n",
    "````\n",
    "\n",
    "This causes an issue, since network does not have a name and view. \n",
    "On server side this can cause a decoding error.\n"
   ]
  },
  {
   "cell_type": "markdown",
   "metadata": {},
   "source": [
    "I will add a CNAME, and search by name to verify a DNS record has always a name and view.\n",
    "From previous search by IP I expect to have only A and HOST (eventually AAAA).\n",
    "So we create a CNAME."
   ]
  },
  {
   "cell_type": "code",
   "execution_count": 71,
   "metadata": {},
   "outputs": [
    {
     "name": "stdout",
     "output_type": "stream",
     "text": [
      "\"record:cname/ZG5zLmJpbmRfY25hbWUkLjkyNy5uZXQuYW1hZGV1cy5vcy5kZW1vLXRlc3QtNDA1YTQ0NjctYjUyZi00MWM5LWEzOGItNTM1MTY2Mzc1NjBjLWNuYW1lLXZ2dnZ2dg:demo-test-405a4467-b52f-41c9-a38b-53516637560c-cname-vvvvvv.os.amadeus.net/scoulomb-proto-view\""
     ]
    }
   ],
   "source": [
    "\n",
    "payload_infoblox=$(cat <<EOF\n",
    "{\n",
    "    \"name\": \"$entry_name_prefix-CNAME-VVVVVV.os.amadeus.net\",\n",
    "    \"view\": \"scoulomb-proto-view\",\n",
    "    \"canonical\":\"scoulomb.test.loc\"\n",
    "}\n",
    "EOF\n",
    ")\n",
    "\n",
    "# https://github.com/scoulomb/myDNS/blob/master/3-DNS-solution-providers/1-Infoblox/3-Infoblox-namespace.md\n",
    "curl -k -u admin:infoblox\\\n",
    "        -H \"Content-Type: application/json\" \\\n",
    "        -X POST \\\n",
    "        -d \"$payload_infoblox\" \\\n",
    "        https://$API_ENDPOINT/wapi/v2.5/record:cname\n"
   ]
  },
  {
   "cell_type": "markdown",
   "metadata": {},
   "source": [
    "And find by name to ensure CNAME has name and view"
   ]
  },
  {
   "cell_type": "code",
   "execution_count": 72,
   "metadata": {},
   "outputs": [
    {
     "name": "stdout",
     "output_type": "stream",
     "text": [
      "[1] 14777\n",
      "[\n",
      "    {\n",
      "        \"_ref\": \"record:host/ZG5zLmhvc3QkLjkyNy5uZXQuYW1hZGV1cy5vcy5kZW1vLXRlc3QtNDA1YTQ0NjctYjUyZi00MWM5LWEzOGItNTM1MTY2Mzc1NjBjLXR0dHR0dA:demo-test-405a4467-b52f-41c9-a38b-53516637560c-tttttt.os.amadeus.net/scoulomb-proto-view\", \n",
      "        \"ipv4addrs\": [\n",
      "            {\n",
      "                \"_ref\": \"record:host_ipv4addr/ZG5zLmhvc3RfYWRkcmVzcyQuOTI3Lm5ldC5hbWFkZXVzLm9zLmRlbW8tdGVzdC00MDVhNDQ2Ny1iNTJmLTQxYzktYTM4Yi01MzUxNjYzNzU2MGMtdHR0dHR0LjU4LjEzNy45Ny4yNS4:58.137.97.25/demo-test-405a4467-b52f-41c9-a38b-53516637560c-tttttt.os.amadeus.net/scoulomb-proto-view\", \n",
      "                \"configure_for_dhcp\": false, \n",
      "                \"host\": \"demo-test-405a4467-b52f-41c9-a38b-53516637560c-tttttt.os.amadeus.net\", \n",
      "                \"ipv4addr\": \"58.137.97.25\"\n",
      "            }\n",
      "        ], \n",
      "        \"name\": \"demo-test-405a4467-b52f-41c9-a38b-53516637560c-tttttt.os.amadeus.net\", \n",
      "        \"view\": \"scoulomb-proto-view\"\n",
      "    }, \n",
      "    {\n",
      "        \"_ref\": \"record:cname/ZG5zLmJpbmRfY25hbWUkLjkyNy5uZXQuYW1hZGV1cy5vcy5kZW1vLXRlc3QtNDA1YTQ0NjctYjUyZi00MWM5LWEzOGItNTM1MTY2Mzc1NjBjLWNuYW1lLXZ2dnZ2dg:demo-test-405a4467-b52f-41c9-a38b-53516637560c-cname-vvvvvv.os.amadeus.net/scoulomb-proto-view\", \n",
      "        \"canonical\": \"scoulomb.test.loc\", \n",
      "        \"name\": \"demo-test-405a4467-b52f-41c9-a38b-53516637560c-cname-vvvvvv.os.amadeus.net\", \n",
      "        \"view\": \"scoulomb-proto-view\"\n",
      "    }, \n",
      "    {\n",
      "        \"_ref\": \"record:a/ZG5zLmJpbmRfYSQuOTI3Lm5ldC5hbWFkZXVzLm9zLGRlbW8tdGVzdC00MDVhNDQ2Ny1iNTJmLTQxYzktYTM4Yi01MzUxNjYzNzU2MGMteHh4eHgsNTguMTM3Ljk3LjI1:demo-test-405a4467-b52f-41c9-a38b-53516637560c-xxxxx.os.amadeus.net/scoulomb-proto-view\", \n",
      "        \"ipv4addr\": \"58.137.97.25\", \n",
      "        \"name\": \"demo-test-405a4467-b52f-41c9-a38b-53516637560c-xxxxx.os.amadeus.net\", \n",
      "        \"view\": \"scoulomb-proto-view\"\n",
      "    }\n",
      "][1]+  Done                    curl -k -u admin:infoblox -H \"Content-Type: application/json\" -X GET https://$API_ENDPOINT/wapi/v2.6/search?fqdn~=$entry_name_prefix\n"
     ]
    }
   ],
   "source": [
    "# https://ipam.illinois.edu/wapidoc/objects/search.html?highlight=search#search\n",
    "curl -k -u admin:infoblox \\\n",
    "        -H \"Content-Type: application/json\" \\\n",
    "        -X GET \\\n",
    "        https://$API_ENDPOINT/wapi/v2.6/search?fqdn~=$entry_name_prefix&_return_fields=name | jq -M\n",
    "\n",
    "sleep 2"
   ]
  },
  {
   "cell_type": "markdown",
   "metadata": {},
   "source": [
    "It confirms CNAME has a name and view.\n",
    "\n",
    "## Clean-up"
   ]
  },
  {
   "cell_type": "code",
   "execution_count": 73,
   "metadata": {},
   "outputs": [
    {
     "name": "stdout",
     "output_type": "stream",
     "text": [
      "\n",
      "Delete network\n",
      "\n",
      "  % Total    % Received % Xferd  Average Speed   Time    Time     Time  Current\n",
      "                                 Dload  Upload   Total   Spent    Left  Speed\n",
      "100   173    0   173    0     0    584      0 --:--:-- --:--:-- --:--:--   584\n",
      "{\n",
      "    \"_ref\": \"network/ZG5zLm5ldHdvcmskNTguMTM3LjAuMC8xNi8w:58.137.0.0/16/default\", \n",
      "    \"network\": \"58.137.0.0/16\", \n",
      "    \"network_view\": \"default\"\n",
      "}\n",
      "Delete view\n",
      "\n",
      "  % Total    % Received % Xferd  Average Speed   Time    Time     Time  Current\n",
      "                                 Dload  Upload   Total   Spent    Left  Speed\n",
      "100   215    0    51  100   164     65    210 --:--:-- --:--:-- --:--:--   275\n",
      "\"view/ZG5zLnZpZXckLjkyNw:scoulomb-proto-view/false\"\n"
     ]
    }
   ],
   "source": [
    "echo -e \"\\nDelete network\\n\"\n",
    "\n",
    "nw_to_del_ref=$(curl -k -u admin:infoblox \\\n",
    "      -H 'content-type: application/json'\\\n",
    "      -X GET \\\n",
    "      https://$API_ENDPOINT/wapi/v2.6/network?network=$NETWORK | jq .[0]._ref | tr -d '\"')\n",
    "\n",
    "curl -k -u admin:infoblox \\\n",
    "      -H 'content-type: application/json'\\\n",
    "      -X GET \\\n",
    "      https://$API_ENDPOINT/wapi/v2.6/$nw_to_del_ref\n",
    "# Note if we want to find only network which falls intro the range without knowing the range do\n",
    "# https://$API_ENDPOINT/wapi/v2.6/network?network~=172.17.162.0/24 with ~, which has same behavior as find (p47)\n",
    "\n",
    "echo -e \"\\nDelete view\\n\"\n",
    "\n",
    "curl -k -u admin:infoblox \\\n",
    "        -H \"Content-Type: application/json\" \\\n",
    "        -X DELETE \\\n",
    "        -d \"$payload_infoblox\" \\\n",
    "        \"https://$API_ENDPOINT/wapi/v2.5/$view_id\" |jq -M"
   ]
  },
  {
   "cell_type": "markdown",
   "metadata": {},
   "source": [
    "## what is network\n",
    "\n",
    "As we had seen here\n",
    "https://github.com/scoulomb/myDNS/blob/master/3-DNS-solution-providers/1-Infoblox/1-Infoblox-API-overview.md#experiment\n",
    "\n",
    "The network is a different concept from netowrk view:\n",
    "https://github.com/scoulomb/myDNS/blob/master/3-DNS-solution-providers/1-Infoblox/1-Infoblox-API-overview.md#api-impact-and-wrapup\n",
    "\n",
    "See also: https://www.infoblox.com/wp-content/uploads/infoblox-deployment-infoblox-rest-api.pdf (p57)\n",
    "\n",
    "Network can be seen as a kind of folder.\n"
   ]
  },
  {
   "cell_type": "markdown",
   "metadata": {},
   "source": [
    "## What would be a fix\n",
    "\n",
    "Here we had seen https://github.com/scoulomb/myDNS/blob/master/3-DNS-solution-providers/1-Infoblox/3-suite-b-dns-ip-search-api.md#api-comments [1,2,3,4,5]\n",
    "\n",
    "We have a point before [1,2,3,4,5] => [0], we need to fitler elements which have a none view or none name.\n",
    "And before we need to make this element optional for decoding not to fail.\n",
    "\n",
    "Also not we already had done to not fail where we had extra field.\n",
    "\n",
    "````\n",
    "# EXCLUDE is used to decode a JSON where a field is not present in the Model.\n",
    "return cast(SUB_MODEL, model_schema().load(data, unknown=marshmallow.EXCLUDE))\n",
    "````\n",
    "\n",
    "We could consider it as duplicate but here it is not the case.\n",
    "\n",
    "\n",
    "<!--\n",
    "See github scoulomb/private_script dns-auto/README_find_bug.md,\n",
    " \n",
    "given vm sync use download as \n",
    "https://github.com/scoulomb/myk8s/blob/master/Setup/ArchDevVM/known-issues.md#workaround-4-use-rsync-instead-of-nfs -->"
   ]
  }
 ],
 "metadata": {
  "kernelspec": {
   "display_name": "Bash",
   "language": "bash",
   "name": "bash"
  },
  "language_info": {
   "codemirror_mode": "shell",
   "file_extension": ".sh",
   "mimetype": "text/x-sh",
   "name": "bash"
  }
 },
 "nbformat": 4,
 "nbformat_minor": 4
}
