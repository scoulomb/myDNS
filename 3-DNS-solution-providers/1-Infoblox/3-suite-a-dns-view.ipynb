{
 "cells": [
  {
   "cell_type": "markdown",
   "metadata": {},
   "source": [
    "# Questions on Infoblox behaviour in different views\n",
    "\n",
    "> Warning: This file is generated from the jupyter notebook. Do not edit by hand. Generate it instead."
   ]
  },
  {
   "cell_type": "code",
   "execution_count": 7,
   "metadata": {},
   "outputs": [
    {
     "name": "stdout",
     "output_type": "stream",
     "text": [
      "[NbConvertApp] Converting notebook 3-suite-a-dns-view.ipynb to markdown\n",
      "[NbConvertApp] Writing 5121 bytes to 3-suite-a-dns-view.md\n"
     ]
    }
   ],
   "source": [
    "jupyter nbconvert 3-suite-a-dns-view.ipynb --to markdown"
   ]
  },
  {
   "cell_type": "markdown",
   "metadata": {},
   "source": [
    "## All records reminder\n",
    "\n",
    "\n",
    "\n",
    "All the check we have done so far were in default what is the view behavior with record in different zone?\n",
    "\n",
    "Taking example here from [1] [Infoblox prevents from creating host, A, AAAA record with same name a CNAME record](https://github.com/scoulomb/myDNS/blob/master/3-DNS-solution-providers/1-Infoblox/3-Infoblox-namespace.md#Infoblox-prevents-from-creating-host-or-A-or-AAAA-record-with-same-name-as-a-CNAME-record).\n",
    "\n"
   ]
  },
  {
   "cell_type": "code",
   "execution_count": 3,
   "metadata": {},
   "outputs": [
    {
     "name": "stdout",
     "output_type": "stream",
     "text": [
      "Generate CNAME and HOST with same name in same view\n",
      "{\n",
      "  \"name\": \"test-a1558479-bf3d-4370-8cbe-499fc1648f4f.test.loc\",\n",
      "  \"view\": \"default\",\n",
      "  \"canonical\": \"tes4.test.loc\"\n",
      "}\n",
      "{\n",
      "  \"name\": \"test-a1558479-bf3d-4370-8cbe-499fc1648f4f.test.loc\",\n",
      "  \"view\": \"default\",\n",
      "  \"ipv4addrs\": [\n",
      "    {\n",
      "      \"ipv4addr\": \"4.4.4.2\"\n",
      "    }\n",
      "  ]\n",
      "}\n",
      "Create CNAME and HOST with same name in same view, expect Infoblox to raise error\n",
      "\"record:cname/ZG5zLmJpbmRfY25hbWUkLl9kZWZhdWx0LmxvYy50ZXN0LnRlc3QtYTE1NTg0NzktYmYzZC00MzcwLThjYmUtNDk5ZmMxNjQ4ZjRm:test-a1558479-bf3d-4370-8cbe-499fc1648f4f.test.loc/default\"{ \"Error\": \"AdmConDataError: None (IBDataConflictError: IB.Data.Conflict:The record 'test-a1558479-bf3d-4370-8cbe-499fc1648f4f.test.loc' already exists.)\", \n",
      "  \"code\": \"Client.Ibap.Data.Conflict\", \n",
      "  \"text\": \"The record 'test-a1558479-bf3d-4370-8cbe-499fc1648f4f.test.loc' already exists.\"\n",
      "}Create custom view\n",
      "  % Total    % Received % Xferd  Average Speed   Time    Time     Time  Current\n",
      "                                 Dload  Upload   Total   Spent    Left  Speed\n",
      "100    70    0    45  100    25     41     22  0:00:01  0:00:01 --:--:--    63\n",
      "Create output is \"view/ZG5zLnZpZXckLjQ0NA:scoulomb-view/false\"\n",
      "Ref is view/ZG5zLnZpZXckLjQ0NA:scoulomb-view/false\n",
      "Create zone\n",
      "{\n",
      "    \"result\": {\n",
      "        \"_ref\": \"zone_auth/ZG5zLnpvbmUkLjQ0NC5sb2MudGVzdA:test.loc/scoulomb-view\", \n",
      "        \"fqdn\": \"test.loc\", \n",
      "        \"network_view\": \"default\", \n",
      "        \"view\": \"scoulomb-view\"\n",
      "    }\n",
      "}Create HOST with same name in different view, expect Infoblox to NOT raise error as different view\n",
      "\"record:host/ZG5zLmhvc3QkLjQ0NC5sb2MudGVzdC50ZXN0LWExNTU4NDc5LWJmM2QtNDM3MC04Y2JlLTQ5OWZjMTY0OGY0Zg:test-a1558479-bf3d-4370-8cbe-499fc1648f4f.test.loc/scoulomb-view\"\"view/ZG5zLnZpZXckLjQ0NA:scoulomb-view/false\""
     ]
    }
   ],
   "source": [
    "sudo systemd-resolve --flush-caches\n",
    "\n",
    "export API_ENDPOINT=\"\" # or the DNS IP\n",
    "\n",
    "UUID=$(cat /proc/sys/kernel/random/uuid)\n",
    "\n",
    "export entry_name=\"test-$UUID\"\n",
    "\n",
    "\n",
    "echo \"Generate CNAME and HOST with same name in same view\"\n",
    "\n",
    "payload_infoblox_cname=$(cat <<EOF\n",
    "{\n",
    "    \"name\": \"$entry_name.test.loc\",\n",
    "    \"view\": \"default\",\n",
    "    \"canonical\":\"tes4.test.loc\"\n",
    "}\n",
    "EOF\n",
    ")\n",
    "\n",
    "payload_infoblox_host=$(cat <<EOF\n",
    "{\n",
    "    \"name\": \"$entry_name.test.loc\",\n",
    "    \"view\": \"default\",\n",
    "    \"ipv4addrs\":[{\"ipv4addr\":\"4.4.4.2\"}]\n",
    "}\n",
    "EOF\n",
    ")\n",
    "\n",
    "\n",
    "echo $payload_infoblox_cname | jq -M\n",
    "echo $payload_infoblox_host | jq -M\n",
    "\n",
    "\n",
    "\n",
    "echo \"Create CNAME and HOST with same name in same view, expect Infoblox to raise error\"\n",
    "\n",
    "\n",
    "curl -k -u admin:infoblox  \\\n",
    "        -H \"Content-Type: application/json\" \\\n",
    "        -X POST \\\n",
    "        -d \"$payload_infoblox_cname\" \\\n",
    "        https://$API_ENDPOINT/wapi/v2.5/record:cname\n",
    "\n",
    "curl -k -u admin:infoblox  \\\n",
    "        -H \"Content-Type: application/json\" \\\n",
    "        -X POST \\\n",
    "        -d \"$payload_infoblox_host\" \\\n",
    "        https://$API_ENDPOINT/wapi/v2.5/record:host\n",
    "\n",
    "\n",
    "\n",
    "\n",
    "echo \"Create custom view\"\n",
    "\n",
    "export VIEW_REF=\"None\"\n",
    "export CREATE_OUTPUT=$(curl -k -u admin:infoblox -H 'content-type: application/json' -X POST \"https://$API_ENDPOINT/wapi/v2.5/view\" -d '{\"name\": \"scoulomb-view\"}')\n",
    "export VIEW_REF=$(echo $CREATE_OUTPUT | tr -d '\"')\n",
    "echo \"Create output is $CREATE_OUTPUT\"\n",
    "echo \"Ref is $VIEW_REF\" # be careful in case of conflict it fails and VIEW_REF var keeps old value (this is why we set it to None to not keep an old id, cf. clean-up section)\n",
    "\n",
    "echo \"Create zone\"\n",
    "curl -k -u admin:infoblox -H 'content-type: application/json' -X POST \"https://$API_ENDPOINT/wapi/v2.5/zone_auth?_return_fields%2B=fqdn,network_view&_return_as_object=1\" -d \\\n",
    "'{\"fqdn\": \"test.loc\",\"view\": \"scoulomb-view\"}'\n",
    "\n",
    "\n",
    "echo \"Create HOST with same name in different view, expect Infoblox to NOT raise error as different view\"\n",
    "\n",
    "\n",
    "payload_infoblox_host_custom_view=$(cat <<EOF\n",
    "{\n",
    "    \"name\": \"$entry_name.test.loc\",\n",
    "    \"view\": \"scoulomb-view\",\n",
    "    \"ipv4addrs\":[{\"ipv4addr\":\"4.4.4.2\"}]\n",
    "}\n",
    "EOF\n",
    ")\n",
    "\n",
    "curl -k -u admin:infoblox  \\\n",
    "        -H \"Content-Type: application/json\" \\\n",
    "        -X POST \\\n",
    "        -d \"$payload_infoblox_host_custom_view\" \\\n",
    "        https://$API_ENDPOINT/wapi/v2.5/record:host\n",
    "\n",
    "\n",
    "curl -k -u admin:infoblox -H 'content-type: application/json' -X DELETE \"https://$API_ENDPOINT/wapi/v2.5/$VIEW_REF\"\n",
    "\n",
    "\n"
   ]
  },
  {
   "cell_type": "markdown",
   "metadata": {},
   "source": [
    "Checks are applied in a given view"
   ]
  }
 ],
 "metadata": {
  "kernelspec": {
   "display_name": "Bash",
   "language": "bash",
   "name": "bash"
  },
  "language_info": {
   "codemirror_mode": "shell",
   "file_extension": ".sh",
   "mimetype": "text/x-sh",
   "name": "bash"
  }
 },
 "nbformat": 4,
 "nbformat_minor": 4
}
