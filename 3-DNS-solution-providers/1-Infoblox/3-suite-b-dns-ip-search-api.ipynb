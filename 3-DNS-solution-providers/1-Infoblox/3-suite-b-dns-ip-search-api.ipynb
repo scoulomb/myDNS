{
 "cells": [
  {
   "cell_type": "markdown",
   "metadata": {},
   "source": [
    "# IP checks\n",
    "\n",
    "> Warning: This file is generated from the jupyter notebook. Do not edit by hand. Generate it instead.\n",
    "\n",
    "Objective: prevent records from using same IP in same view."
   ]
  },
  {
   "cell_type": "code",
   "execution_count": 5,
   "metadata": {},
   "outputs": [
    {
     "name": "stdout",
     "output_type": "stream",
     "text": [
      "[NbConvertApp] Converting notebook 3-suite-b-dns-ip-search-api.ipynb to markdown\n",
      "[NbConvertApp] Writing 11626 bytes to 3-suite-b-dns-ip-search-api.md\n"
     ]
    }
   ],
   "source": [
    "jupyter nbconvert 3-suite-b-dns-ip-search-api.ipynb --to markdown # --output=3-suite-dns-ip-search-api.md"
   ]
  },
  {
   "cell_type": "markdown",
   "metadata": {},
   "source": [
    "## All records reminder\n",
    "\n",
    "As a reminder this is API call we used for FQDN check\n",
    "\n",
    "<!-- I inspire from s6 demo for creation and for view creation https://github.com/scoulomb/myDNS/blob/master/3-DNS-solution-providers/1-Infoblox/1-Infoblox-API-overview.md -->"
   ]
  },
  {
   "cell_type": "code",
   "execution_count": 55,
   "metadata": {},
   "outputs": [
    {
     "name": "stdout",
     "output_type": "stream",
     "text": [
      "Create view\n",
      "  % Total    % Received % Xferd  Average Speed   Time    Time     Time  Current\n",
      "                                 Dload  Upload   Total   Spent    Left  Speed\n",
      "100    70    0    45  100    25     41     23  0:00:01  0:00:01 --:--:--    64\n",
      "Create output is \"view/ZG5zLnZpZXckLjExNg:scoulomb-view/false\"\n",
      "Ref is view/ZG5zLnZpZXckLjExNg:scoulomb-view/false\n",
      "Create zone\n",
      "{\n",
      "    \"result\": {\n",
      "        \"_ref\": \"zone_auth/ZG5zLnpvbmUkLjExNi5sb2MudGVzdA:test.loc/scoulomb-view\", \n",
      "        \"fqdn\": \"test.loc\", \n",
      "        \"network_view\": \"default\", \n",
      "        \"view\": \"scoulomb-view\"\n",
      "    }\n",
      "}Create host\n",
      "\"record:host/ZG5zLmhvc3QkLjExNi5sb2MudGVzdC50b3Rv:toto.test.loc/scoulomb-view\"Create A\n",
      "\"record:a/ZG5zLmJpbmRfYSQuMTE2LmxvYy50ZXN0LHRvdG8sNS41LjUuNQ:toto.test.loc/scoulomb-view\"Retrieve by name\n",
      "[\n",
      "    {\n",
      "        \"_ref\": \"allrecords/ZG5zLnpvbmVfc2VhcmNoX2luZGV4JGRucy5ob3N0JC4xMTYubG9jLnRlc3QudG90bw:toto\", \n",
      "        \"comment\": \"\", \n",
      "        \"name\": \"toto\", \n",
      "        \"type\": \"record:host_ipv4addr\", \n",
      "        \"view\": \"scoulomb-view\", \n",
      "        \"zone\": \"test.loc\"\n",
      "    }, \n",
      "    {\n",
      "        \"_ref\": \"allrecords/ZG5zLnpvbmVfc2VhcmNoX2luZGV4JGRucy5ob3N0JC4xMTYubG9jLnRlc3QudG90bw:toto\", \n",
      "        \"comment\": \"\", \n",
      "        \"name\": \"toto\", \n",
      "        \"type\": \"record:host_ipv4addr\", \n",
      "        \"view\": \"scoulomb-view\", \n",
      "        \"zone\": \"test.loc\"\n",
      "    }, \n",
      "    {\n",
      "        \"_ref\": \"allrecords/ZG5zLnpvbmVfc2VhcmNoX2luZGV4JGRucy5iaW5kX2EkLjExNi5sb2MudGVzdCx0b3RvLDUuNS41LjU:toto\", \n",
      "        \"comment\": \"\", \n",
      "        \"name\": \"toto\", \n",
      "        \"type\": \"record:a\", \n",
      "        \"view\": \"scoulomb-view\", \n",
      "        \"zone\": \"test.loc\"\n",
      "    }\n",
      "]"
     ]
    }
   ],
   "source": [
    "sudo systemd-resolve --flush-caches\n",
    "\n",
    "export API_ENDPOINT=\"\"\n",
    "\n",
    "echo \"Create view\"\n",
    "\n",
    "export VIEW_REF=\"None\"\n",
    "export CREATE_OUTPUT=$(curl -k -u admin:infoblox -H 'content-type: application/json' -X POST \"https://$API_ENDPOINT/wapi/v2.5/view\" -d '{\"name\": \"scoulomb-view\"}')\n",
    "export VIEW_REF=$(echo $CREATE_OUTPUT | tr -d '\"')\n",
    "echo \"Create output is $CREATE_OUTPUT\"\n",
    "echo \"Ref is $VIEW_REF\" # be careful in case of conflict it fails and VIEW_REF var keeps old value (this is why we set it to None to not keep an old id, cf. clean-up section)\n",
    "\n",
    "echo \"Create zone\"\n",
    "curl -k -u admin:infoblox -H 'content-type: application/json' -X POST \"https://$API_ENDPOINT/wapi/v2.5/zone_auth?_return_fields%2B=fqdn,network_view&_return_as_object=1\" -d \\\n",
    "'{\"fqdn\": \"test.loc\",\"view\": \"scoulomb-view\"}'\n",
    "\n",
    "echo \"Create host\"\n",
    "curl -k -u admin:infoblox \\\n",
    "        -H \"Content-Type: application/json\" \\\n",
    "        -X POST \\\n",
    "        -d '{\"name\":\"toto.test.loc\",\"view\":\"scoulomb-view\",\"ipv4addrs\":[{\"ipv4addr\":\"4.4.4.1\"}, {\"ipv4addr\":\"5.5.5.5\"}]}' \\\n",
    "        https://$API_ENDPOINT/wapi/v2.5/record:host\n",
    "\n",
    "echo \"Create A\"\n",
    "curl -k -u admin:infoblox \\\n",
    "        -H \"Content-Type: application/json\" \\\n",
    "        -X POST \\\n",
    "        -d '{\"name\":\"toto.test.loc\", \"view\": \"scoulomb-view\",\"ipv4addr\":\"5.5.5.5\"}' \\\n",
    "        https://$API_ENDPOINT/wapi/v2.5/record:a\n",
    "\n",
    "echo \"Retrieve by name\"\n",
    "curl -k -u admin:infoblox \\\n",
    "        -H \"Content-Type: application/json\" \\\n",
    "        -X GET \\\n",
    "        \"https://$API_ENDPOINT/wapi/v2.5/allrecords?name=toto&view=scoulomb-view&zone=test.loc\"\n",
    "\n"
   ]
  },
  {
   "cell_type": "markdown",
   "metadata": {},
   "source": [
    "## But filtering on address is not possible with all records api endpoint "
   ]
  },
  {
   "cell_type": "code",
   "execution_count": 56,
   "metadata": {},
   "outputs": [
    {
     "name": "stdout",
     "output_type": "stream",
     "text": [
      "{ \"Error\": \"AdmConProtoError: Field is not searchable: address\", \n",
      "  \"code\": \"Client.Ibap.Proto\", \n",
      "  \"text\": \"Field is not searchable: address\"\n",
      "}"
     ]
    }
   ],
   "source": [
    "sudo systemd-resolve --flush-caches\n",
    "\n",
    "\n",
    "curl -k -u admin:infoblox \\\n",
    "        -H \"Content-Type: application/json\" \\\n",
    "        -X GET \\\n",
    "        \"https://$API_ENDPOINT/wapi/v2.5/allrecords?address=5.5.5.5&zone=test.loc\"\n",
    "        \n",
    "        \n",
    "# curl -k -u admin:infoblox \\\n",
    "#         -H \"Content-Type: application/json\" \\\n",
    "#         -X GET \\\n",
    "#         \"https://$API_ENDPOINT/wapi/v2.5/allrecords?comment=&zone=test.loc\""
   ]
  },
  {
   "cell_type": "markdown",
   "metadata": {},
   "source": [
    "## Search endpoint\n",
    "\n",
    "But we can use search endpoint but it does not enable to filter on the view, client will have to do it.\n",
    "If it was we could actually filter one element only.\n",
    "However we have spotted the issue of type union, array elements are not homogenous\n",
    "Unlike FQDN check we do not have to filter on top of the type provided by Infoblox"
   ]
  },
  {
   "cell_type": "code",
   "execution_count": 57,
   "metadata": {},
   "outputs": [
    {
     "name": "stdout",
     "output_type": "stream",
     "text": [
      "{\n",
      "    \"result\": [\n",
      "        {\n",
      "            \"_ref\": \"record:a/ZG5zLmJpbmRfYSQuMS56b25lLmd1bm5hcix0ZXN0LDUuNS41LjU:test.gunnar.zone/Office\", \n",
      "            \"ipv4addr\": \"5.5.5.5\", \n",
      "            \"name\": \"test.gunnar.zone\", \n",
      "            \"view\": \"Office\"\n",
      "        }, \n",
      "        {\n",
      "            \"_ref\": \"record:a/ZG5zLmJpbmRfYSQuNS5jb20uYW1hdHN0LHozLDUuNS41LjU:z3.amatst.com/Internet\", \n",
      "            \"ipv4addr\": \"5.5.5.5\", \n",
      "            \"name\": \"z3.amatst.com\", \n",
      "            \"view\": \"Internet\"\n",
      "        }, \n",
      "        {\n",
      "            \"_ref\": \"record:host/ZG5zLmhvc3QkLjExNi5sb2MudGVzdC50b3Rv:toto.test.loc/scoulomb-view\", \n",
      "            \"ipv4addrs\": [\n",
      "                {\n",
      "                    \"_ref\": \"record:host_ipv4addr/ZG5zLmhvc3RfYWRkcmVzcyQuMTE2LmxvYy50ZXN0LnRvdG8uNC40LjQuMS4:4.4.4.1/toto.test.loc/scoulomb-view\", \n",
      "                    \"configure_for_dhcp\": false, \n",
      "                    \"host\": \"toto.test.loc\", \n",
      "                    \"ipv4addr\": \"4.4.4.1\"\n",
      "                }, \n",
      "                {\n",
      "                    \"_ref\": \"record:host_ipv4addr/ZG5zLmhvc3RfYWRkcmVzcyQuMTE2LmxvYy50ZXN0LnRvdG8uNS41LjUuNS4:5.5.5.5/toto.test.loc/scoulomb-view\", \n",
      "                    \"configure_for_dhcp\": false, \n",
      "                    \"host\": \"toto.test.loc\", \n",
      "                    \"ipv4addr\": \"5.5.5.5\"\n",
      "                }\n",
      "            ], \n",
      "            \"name\": \"toto.test.loc\", \n",
      "            \"view\": \"scoulomb-view\"\n",
      "        }, \n",
      "        {\n",
      "            \"_ref\": \"record:a/ZG5zLmJpbmRfYSQuMTE2LmxvYy50ZXN0LHRvdG8sNS41LjUuNQ:toto.test.loc/scoulomb-view\", \n",
      "            \"ipv4addr\": \"5.5.5.5\", \n",
      "            \"name\": \"toto.test.loc\", \n",
      "            \"view\": \"scoulomb-view\"\n",
      "        }, \n",
      "        {\n",
      "            \"_ref\": \"record:a/ZG5zLmJpbmRfYSQuMTMubG9jLnRlc3QsaG9zdDUsNS41LjUuNQ:host5.test.loc/Office_api_test\", \n",
      "            \"ipv4addr\": \"5.5.5.5\", \n",
      "            \"name\": \"host5.test.loc\", \n",
      "            \"view\": \"Office_api_test\"\n",
      "        }\n",
      "    ]\n",
      "}"
     ]
    }
   ],
   "source": [
    "curl -k -u admin:infoblox \"https://$API_ENDPOINT/wapi/v2.6/search?address=5.5.5.5&_return_as_object=1\""
   ]
  },
  {
   "cell_type": "markdown",
   "metadata": {},
   "source": [
    "## Clean-up"
   ]
  },
  {
   "cell_type": "code",
   "execution_count": 58,
   "metadata": {},
   "outputs": [
    {
     "name": "stdout",
     "output_type": "stream",
     "text": [
      "  % Total    % Received % Xferd  Average Speed   Time    Time     Time  Current\n",
      "                                 Dload  Upload   Total   Spent    Left  Speed\n",
      "100   141    0   141    0     0    427      0 --:--:-- --:--:-- --:--:--   425\n",
      "view/ZG5zLnZpZXckLjExNg:scoulomb-view/false\n",
      "view/ZG5zLnZpZXckLjExNg:scoulomb-view/false\n",
      "\"view/ZG5zLnZpZXckLjExNg:scoulomb-view/false\""
     ]
    }
   ],
   "source": [
    "export VIEW_REF_FIND=$(curl -k -u admin:infoblox \"https://$API_ENDPOINT/wapi/v2.6/view?name=scoulomb-view\" | jq '.[0]._ref' | tr -d '\"')\n",
    "echo $VIEW_REF\n",
    "echo $VIEW_REF_FIND\n",
    "# here we can use VIEW_REF (from create) or  VIEW_REF_FIND (from find). Find output is less likely to fail.\n",
    "curl -k -u admin:infoblox -H 'content-type: application/json' -X DELETE \"https://$API_ENDPOINT/wapi/v2.5/$VIEW_REF_FIND\""
   ]
  },
  {
   "cell_type": "markdown",
   "metadata": {},
   "source": [
    "## Notes\n",
    "\n",
    "This ensures a bijection IP <-> FQDN\n",
    "<!-- And name check != -->\n",
    "All this checks are policy checks.\n",
    "No check is performed bty Infoblox on IP.\n",
    "\n",
    "\n",
    "## API comments\n",
    "\n",
    "\n",
    "- 1/ Infoblox Search API does not enable to filter on the view unlike `AllRecords`, thus a filtering on view needed\n",
    "- 2/ Unlike check_duplicate_name, the check on duplicate IP is not dependent on record type. We consider all type of records.\n",
    "- 3/ based comment here:\n",
    "https://github.com/scoulomb/myDNS/blob/master/3-DNS-solution-providers/1-Infoblox/3-Infoblox-namespace.md#we-can-also-create-several-a-with-the-same-name-and-different-ip\n",
    "> We say record type is part of the key because we can see that we have IP 4.4.4.1 defined twice as a A and Host.\n",
    "https://github.com/scoulomb/myDNS/blob/master/3-DNS-solution-providers/1-Infoblox/3-Infoblox-namespace.md#we-can-not-create-several-host-record-with-same-name-with-different-ip\n",
    "\n",
    "````\n",
    "If we do a find there: \n",
    "\n",
    "curl -k -u admin:infoblox \\\n",
    "        -H \"Content-Type: application/json\" \\\n",
    "        -X GET \\\n",
    "        https://$API_ENDPOINT/wapi/v2.6/search?address=4.4.4.1 | jq -M\n",
    "\n",
    "\n",
    "[vagrant@archlinux dns-automation]$ curl -k -u admin:infoblox \\\n",
    ">         -H \"Content-Type: application/json\" \\\n",
    ">         -X GET \\\n",
    ">         https://$API_ENDPOINT/wapi/v2.6/search?address=4.4.4.1 | jq -M\n",
    "  % Total    % Received % Xferd  Average Speed   Time    Time     Time  Current\n",
    "                                 Dload  Upload   Total   Spent    Left  Speed\n",
    "100  5308    0  5308    0     0  11640      0 --:--:-- --:--:-- --:--:-- 11640\n",
    "[\n",
    "  {\n",
    "    \"_ref\": \"record:host/ZG5zLmhvc3QkLl9kZWZhdWx0LmxvYy50ZXN0Lm15dHN0cmVjb3Jk:mytstrecord.test.loc/default\",\n",
    "    \"ipv4addrs\": [\n",
    "      {\n",
    "        \"_ref\": \"record:host_ipv4addr/ZG5zLmhvc3RfYWRkcmVzcyQuX2RlZmF1bHQubG9jLnRlc3QubXl0c3RyZWNvcmQuNC40LjQuMS4:4.4.4.1/mytstrecord.test.loc/default\",\n",
    "        \"configure_for_dhcp\": false,\n",
    "        \"host\": \"mytstrecord.test.loc\",\n",
    "        \"ipv4addr\": \"4.4.4.1\"\n",
    "      },\n",
    "      {\n",
    "        \"_ref\": \"record:host_ipv4addr/ZG5zLmhvc3RfYWRkcmVzcyQuX2RlZmF1bHQubG9jLnRlc3QubXl0c3RyZWNvcmQuNC40LjQuMi4:4.4.4.2/mytstrecord.test.loc/default\",\n",
    "        \"configure_for_dhcp\": false,\n",
    "        \"host\": \"mytstrecord.test.loc\",\n",
    "        \"ipv4addr\": \"4.4.4.2\"\n",
    "      }\n",
    "    ],\n",
    "    \"name\": \"mytstrecord.test.loc\",\n",
    "    \"view\": \"default\"\n",
    "  },\n",
    "  {\n",
    "    \"_ref\": \"record:a/ZG5zLmJpbmRfYSQuX2RlZmF1bHQubG9jLnRlc3QsbXl0c3RyZWNvcmQsNC40LjQuMQ:mytstrecord.test.loc/default\",\n",
    "    \"ipv4addr\": \"4.4.4.1\",\n",
    "    \"name\": \"mytstrecord.test.loc\",\n",
    "    \"view\": \"default\"\n",
    "  },\n",
    "````\n",
    "\n",
    "We have to return the type and the name, as same IP can be defined twice for a given name as host and A, but not twice as A or HostRecord with same IP for a given name\n",
    "Otherwise we would return twice the same name for no obvious reason for automation client.\n",
    "\n",
    "\n",
    "- 4/ Search API can not return the record type unlike AllRecords something like `&_return_fields=name` `&_return_as_object=1` does not work here.\n",
    "We have to extract if from _ref\n",
    "\n",
    "- 5/ Name field contain the zone unlike AllRecords in (check_duplicate_name)\n",
    "<!--\n",
    "(as comment here, https://github.com/scoulomb/myDNS/blob/master/3-DNS-solution-providers/1-Infoblox/3-Infoblox-namespace.md\n",
    "> Note Infoblox API is not consistent)\n",
    "-->\n",
    "\n",
    "Note https://github.com/scoulomb/myDNS/blob/master/3-DNS-solution-providers/1-Infoblox/3-Infoblox-namespace.md#infoblox-find-api---check-duplicate-v2-can-we-do-better-and-do-a-single-call-for-txt-and-a\n",
    "AllRecord has a special type in _ref unlike here!!\n",
    "And end of ref does not contain the zone unlike here (at least consistent with name field)\n",
    "\n",
    "<!--\n",
    "DNS PR#61\n",
    "all comment judged clear including ut\n",
    "-->"
   ]
  }
 ],
 "metadata": {
  "kernelspec": {
   "display_name": "Bash",
   "language": "bash",
   "name": "bash"
  },
  "language_info": {
   "codemirror_mode": "shell",
   "file_extension": ".sh",
   "mimetype": "text/x-sh",
   "name": "bash"
  }
 },
 "nbformat": 4,
 "nbformat_minor": 4
}
