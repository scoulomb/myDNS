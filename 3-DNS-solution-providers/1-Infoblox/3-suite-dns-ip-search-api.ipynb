{
 "cells": [
  {
   "cell_type": "markdown",
   "metadata": {},
   "source": [
    "# IP checks\n",
    "\n",
    "> Warning: This file is generated from the jupyter notebook. Do not edit by hand. Generate it instead."
   ]
  },
  {
   "cell_type": "code",
   "execution_count": 1,
   "metadata": {},
   "outputs": [
    {
     "name": "stdout",
     "output_type": "stream",
     "text": [
      "[NbConvertApp] Converting notebook 3-suite-dns-ip-search-api.ipynb to markdown\n",
      "[NbConvertApp] Writing 7894 bytes to 3-suite-dns-ip-search-api.md\n"
     ]
    }
   ],
   "source": [
    "jupyter nbconvert 3-suite-dns-ip-search-api.ipynb --to markdown --output=3-suite-dns-ip-search-api.md"
   ]
  },
  {
   "cell_type": "markdown",
   "metadata": {},
   "source": [
    "## All records reminder\n",
    "\n",
    "As a reminder this is API call we used for FQDN check\n",
    "\n",
    "<!-- I inspire from s6 demo for creation and for view creation https://github.com/scoulomb/myDNS/blob/master/3-DNS-solution-providers/1-Infoblox/1-Infoblox-API-overview.md -->"
   ]
  },
  {
   "cell_type": "code",
   "execution_count": 55,
   "metadata": {},
   "outputs": [
    {
     "name": "stdout",
     "output_type": "stream",
     "text": [
      "Create view\n",
      "  % Total    % Received % Xferd  Average Speed   Time    Time     Time  Current\n",
      "                                 Dload  Upload   Total   Spent    Left  Speed\n",
      "100    70    0    45  100    25     41     23  0:00:01  0:00:01 --:--:--    64\n",
      "Create output is \"view/ZG5zLnZpZXckLjExNg:scoulomb-view/false\"\n",
      "Ref is view/ZG5zLnZpZXckLjExNg:scoulomb-view/false\n",
      "Create zone\n",
      "{\n",
      "    \"result\": {\n",
      "        \"_ref\": \"zone_auth/ZG5zLnpvbmUkLjExNi5sb2MudGVzdA:test.loc/scoulomb-view\", \n",
      "        \"fqdn\": \"test.loc\", \n",
      "        \"network_view\": \"default\", \n",
      "        \"view\": \"scoulomb-view\"\n",
      "    }\n",
      "}Create host\n",
      "\"record:host/ZG5zLmhvc3QkLjExNi5sb2MudGVzdC50b3Rv:toto.test.loc/scoulomb-view\"Create A\n",
      "\"record:a/ZG5zLmJpbmRfYSQuMTE2LmxvYy50ZXN0LHRvdG8sNS41LjUuNQ:toto.test.loc/scoulomb-view\"Retrieve by name\n",
      "[\n",
      "    {\n",
      "        \"_ref\": \"allrecords/ZG5zLnpvbmVfc2VhcmNoX2luZGV4JGRucy5ob3N0JC4xMTYubG9jLnRlc3QudG90bw:toto\", \n",
      "        \"comment\": \"\", \n",
      "        \"name\": \"toto\", \n",
      "        \"type\": \"record:host_ipv4addr\", \n",
      "        \"view\": \"scoulomb-view\", \n",
      "        \"zone\": \"test.loc\"\n",
      "    }, \n",
      "    {\n",
      "        \"_ref\": \"allrecords/ZG5zLnpvbmVfc2VhcmNoX2luZGV4JGRucy5ob3N0JC4xMTYubG9jLnRlc3QudG90bw:toto\", \n",
      "        \"comment\": \"\", \n",
      "        \"name\": \"toto\", \n",
      "        \"type\": \"record:host_ipv4addr\", \n",
      "        \"view\": \"scoulomb-view\", \n",
      "        \"zone\": \"test.loc\"\n",
      "    }, \n",
      "    {\n",
      "        \"_ref\": \"allrecords/ZG5zLnpvbmVfc2VhcmNoX2luZGV4JGRucy5iaW5kX2EkLjExNi5sb2MudGVzdCx0b3RvLDUuNS41LjU:toto\", \n",
      "        \"comment\": \"\", \n",
      "        \"name\": \"toto\", \n",
      "        \"type\": \"record:a\", \n",
      "        \"view\": \"scoulomb-view\", \n",
      "        \"zone\": \"test.loc\"\n",
      "    }\n",
      "]"
     ]
    }
   ],
   "source": [
    "sudo systemd-resolve --flush-caches\n",
    "\n",
    "export API_ENDPOINT=\"\"\n",
    "\n",
    "echo \"Create view\"\n",
    "\n",
    "export VIEW_REF=\"None\"\n",
    "export CREATE_OUTPUT=$(curl -k -u admin:infoblox -H 'content-type: application/json' -X POST \"https://$API_ENDPOINT/wapi/v2.5/view\" -d '{\"name\": \"scoulomb-view\"}')\n",
    "export VIEW_REF=$(echo $CREATE_OUTPUT | tr -d '\"')\n",
    "echo \"Create output is $CREATE_OUTPUT\"\n",
    "echo \"Ref is $VIEW_REF\" # be careful in case of conflict it fails and VIEW_REF var keeps old value (this is why we set it to None to not keep an old id, cf. clean-up section)\n",
    "\n",
    "echo \"Create zone\"\n",
    "curl -k -u admin:infoblox -H 'content-type: application/json' -X POST \"https://$API_ENDPOINT/wapi/v2.5/zone_auth?_return_fields%2B=fqdn,network_view&_return_as_object=1\" -d \\\n",
    "'{\"fqdn\": \"test.loc\",\"view\": \"scoulomb-view\"}'\n",
    "\n",
    "echo \"Create host\"\n",
    "curl -k -u admin:infoblox \\\n",
    "        -H \"Content-Type: application/json\" \\\n",
    "        -X POST \\\n",
    "        -d '{\"name\":\"toto.test.loc\",\"view\":\"scoulomb-view\",\"ipv4addrs\":[{\"ipv4addr\":\"4.4.4.1\"}, {\"ipv4addr\":\"5.5.5.5\"}]}' \\\n",
    "        https://$API_ENDPOINT/wapi/v2.5/record:host\n",
    "\n",
    "echo \"Create A\"\n",
    "curl -k -u admin:infoblox \\\n",
    "        -H \"Content-Type: application/json\" \\\n",
    "        -X POST \\\n",
    "        -d '{\"name\":\"toto.test.loc\", \"view\": \"scoulomb-view\",\"ipv4addr\":\"5.5.5.5\"}' \\\n",
    "        https://$API_ENDPOINT/wapi/v2.5/record:a\n",
    "\n",
    "echo \"Retrieve by name\"\n",
    "curl -k -u admin:infoblox \\\n",
    "        -H \"Content-Type: application/json\" \\\n",
    "        -X GET \\\n",
    "        \"https://$API_ENDPOINT/wapi/v2.5/allrecords?name=toto&view=scoulomb-view&zone=test.loc\"\n",
    "\n"
   ]
  },
  {
   "cell_type": "markdown",
   "metadata": {},
   "source": [
    "## But filtering on address is not possble with all records api endpoint "
   ]
  },
  {
   "cell_type": "code",
   "execution_count": 56,
   "metadata": {},
   "outputs": [
    {
     "name": "stdout",
     "output_type": "stream",
     "text": [
      "{ \"Error\": \"AdmConProtoError: Field is not searchable: address\", \n",
      "  \"code\": \"Client.Ibap.Proto\", \n",
      "  \"text\": \"Field is not searchable: address\"\n",
      "}"
     ]
    }
   ],
   "source": [
    "sudo systemd-resolve --flush-caches\n",
    "\n",
    "\n",
    "curl -k -u admin:infoblox \\\n",
    "        -H \"Content-Type: application/json\" \\\n",
    "        -X GET \\\n",
    "        \"https://$API_ENDPOINT/wapi/v2.5/allrecords?address=5.5.5.5&zone=test.loc\"\n",
    "        \n",
    "        \n",
    "# curl -k -u admin:infoblox \\\n",
    "#         -H \"Content-Type: application/json\" \\\n",
    "#         -X GET \\\n",
    "#         \"https://$API_ENDPOINT/wapi/v2.5/allrecords?comment=&zone=test.loc\""
   ]
  },
  {
   "cell_type": "markdown",
   "metadata": {},
   "source": [
    "## Search endpoint\n",
    "\n",
    "But we can use search endpoint but it does not enable to filter on the view, client will have to do it.\n",
    "If it was we could actually filter one element only.\n",
    "However we have spotted the issue of type union, array elements are not homogenous\n",
    "Unlike FQDN check we do not have to filter on top of the type provided by Infoblox"
   ]
  },
  {
   "cell_type": "code",
   "execution_count": 57,
   "metadata": {},
   "outputs": [
    {
     "name": "stdout",
     "output_type": "stream",
     "text": [
      "{\n",
      "    \"result\": [\n",
      "        {\n",
      "            \"_ref\": \"record:a/ZG5zLmJpbmRfYSQuMS56b25lLmd1bm5hcix0ZXN0LDUuNS41LjU:test.gunnar.zone/Office\", \n",
      "            \"ipv4addr\": \"5.5.5.5\", \n",
      "            \"name\": \"test.gunnar.zone\", \n",
      "            \"view\": \"Office\"\n",
      "        }, \n",
      "        {\n",
      "            \"_ref\": \"record:a/ZG5zLmJpbmRfYSQuNS5jb20uYW1hdHN0LHozLDUuNS41LjU:z3.amatst.com/Internet\", \n",
      "            \"ipv4addr\": \"5.5.5.5\", \n",
      "            \"name\": \"z3.amatst.com\", \n",
      "            \"view\": \"Internet\"\n",
      "        }, \n",
      "        {\n",
      "            \"_ref\": \"record:host/ZG5zLmhvc3QkLjExNi5sb2MudGVzdC50b3Rv:toto.test.loc/scoulomb-view\", \n",
      "            \"ipv4addrs\": [\n",
      "                {\n",
      "                    \"_ref\": \"record:host_ipv4addr/ZG5zLmhvc3RfYWRkcmVzcyQuMTE2LmxvYy50ZXN0LnRvdG8uNC40LjQuMS4:4.4.4.1/toto.test.loc/scoulomb-view\", \n",
      "                    \"configure_for_dhcp\": false, \n",
      "                    \"host\": \"toto.test.loc\", \n",
      "                    \"ipv4addr\": \"4.4.4.1\"\n",
      "                }, \n",
      "                {\n",
      "                    \"_ref\": \"record:host_ipv4addr/ZG5zLmhvc3RfYWRkcmVzcyQuMTE2LmxvYy50ZXN0LnRvdG8uNS41LjUuNS4:5.5.5.5/toto.test.loc/scoulomb-view\", \n",
      "                    \"configure_for_dhcp\": false, \n",
      "                    \"host\": \"toto.test.loc\", \n",
      "                    \"ipv4addr\": \"5.5.5.5\"\n",
      "                }\n",
      "            ], \n",
      "            \"name\": \"toto.test.loc\", \n",
      "            \"view\": \"scoulomb-view\"\n",
      "        }, \n",
      "        {\n",
      "            \"_ref\": \"record:a/ZG5zLmJpbmRfYSQuMTE2LmxvYy50ZXN0LHRvdG8sNS41LjUuNQ:toto.test.loc/scoulomb-view\", \n",
      "            \"ipv4addr\": \"5.5.5.5\", \n",
      "            \"name\": \"toto.test.loc\", \n",
      "            \"view\": \"scoulomb-view\"\n",
      "        }, \n",
      "        {\n",
      "            \"_ref\": \"record:a/ZG5zLmJpbmRfYSQuMTMubG9jLnRlc3QsaG9zdDUsNS41LjUuNQ:host5.test.loc/Office_api_test\", \n",
      "            \"ipv4addr\": \"5.5.5.5\", \n",
      "            \"name\": \"host5.test.loc\", \n",
      "            \"view\": \"Office_api_test\"\n",
      "        }\n",
      "    ]\n",
      "}"
     ]
    }
   ],
   "source": [
    "curl -k -u admin:infoblox \"https://$API_ENDPOINT/wapi/v2.6/search?address=5.5.5.5&_return_as_object=1\""
   ]
  },
  {
   "cell_type": "markdown",
   "metadata": {},
   "source": [
    "## Clean-up"
   ]
  },
  {
   "cell_type": "code",
   "execution_count": 58,
   "metadata": {},
   "outputs": [
    {
     "name": "stdout",
     "output_type": "stream",
     "text": [
      "  % Total    % Received % Xferd  Average Speed   Time    Time     Time  Current\n",
      "                                 Dload  Upload   Total   Spent    Left  Speed\n",
      "100   141    0   141    0     0    427      0 --:--:-- --:--:-- --:--:--   425\n",
      "view/ZG5zLnZpZXckLjExNg:scoulomb-view/false\n",
      "view/ZG5zLnZpZXckLjExNg:scoulomb-view/false\n",
      "\"view/ZG5zLnZpZXckLjExNg:scoulomb-view/false\""
     ]
    }
   ],
   "source": [
    "export VIEW_REF_FIND=$(curl -k -u admin:infoblox \"https://$API_ENDPOINT/wapi/v2.6/view?name=scoulomb-view\" | jq '.[0]._ref' | tr -d '\"')\n",
    "echo $VIEW_REF\n",
    "echo $VIEW_REF_FIND\n",
    "# here we can use VIEW_REF (from create) or  VIEW_REF_FIND (from find). Find output is less likely to fail.\n",
    "curl -k -u admin:infoblox -H 'content-type: application/json' -X DELETE \"https://$API_ENDPOINT/wapi/v2.5/$VIEW_REF_FIND\""
   ]
  },
  {
   "cell_type": "markdown",
   "metadata": {},
   "source": [
    "This ensures a bijection IP <-> FQDN\n",
    "<!-- And name check != -->\n",
    "All this checks are policy checks."
   ]
  }
 ],
 "metadata": {
  "kernelspec": {
   "display_name": "Bash",
   "language": "bash",
   "name": "bash"
  },
  "language_info": {
   "codemirror_mode": "shell",
   "file_extension": ".sh",
   "mimetype": "text/x-sh",
   "name": "bash"
  }
 },
 "nbformat": 4,
 "nbformat_minor": 4
}
